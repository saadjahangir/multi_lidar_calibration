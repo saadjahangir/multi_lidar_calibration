{
  "cells": [
    {
      "cell_type": "code",
      "execution_count": null,
      "metadata": {
        "id": "6SpXRySrD8Av"
      },
      "outputs": [],
      "source": [
        "import numpy as np\n",
        "import pandas as pd\n",
        "import matplotlib.pyplot as plt\n",
        "from scipy.spatial.transform import Rotation as R"
      ]
    },
    {
      "cell_type": "code",
      "execution_count": null,
      "metadata": {
        "colab": {
          "base_uri": "https://localhost:8080/",
          "height": 281
        },
        "id": "Fn0aCVIVEGcM",
        "outputId": "4748e65b-fa1d-4a81-a4e2-b07784bdb221"
      },
      "outputs": [
        {
          "data": {
            "image/png": "[encoded data removed]",
            "text/plain": [
              "<Figure size 432x288 with 1 Axes>"
            ]
          },
          "metadata": {
            "needs_background": "light"
          },
          "output_type": "display_data"
        }
      ],
      "source": [
        "scenes = ['Scene 1','Scene 2','Scene 3','Scene 4','Scene 5']\n",
        "Initialization1 = [0.0289, 0.0462, 0.0318, 0.0117, 0.0095]\n",
        "ICP1 = [0.002, 0.041, 0.014, 0.016, 0.011]\n",
        "NDT1 = [0.03774 , 0.00895, 0.05055, 0.03704, 0.01483]\n",
        "\n",
        "Initialization2 = [0.0151, 0.0246, 0.05855, 0.0837, 0.0071]\n",
        "ICP2 = [0.016, 0.062, 0.078, 0.0948, 0.0305]\n",
        "NDT2 = [0.02532, 0.01879, 0.0763, 0.00731, 0.0005]\n",
        "\n",
        "Initialization3 = [0.0707, 0.0711, 0.068, 0.0682, 0.069]\n",
        "ICP3 = [0.049, 0.0507, 0.0515, 0.0515, 0.048]\n",
        "NDT3 = [0.0564 ,0.0608 ,0.05517 ,0.0572, 0.05629]\n",
        "\n",
        "\n",
        "\n",
        "Initialization4 = [0.0097, 0.0045, 0.0014, 0.070, 0.0005]\n",
        "ICP4 = [0.0016, 0.0016, 0.0015, 0.0011, 0.00164]\n",
        "NDT4 = [0.002, 0.00114, 0.003, 0.0019, 0.00187]\n",
        "\n",
        "Initialization5 = [0.0027, 0.0017, 0.0018, 0.009, 0.001]\n",
        "ICP5 = [0.0014, 0.0012, 0.000027, 0.0013, 0.00169]\n",
        "NDT5 = [0.00134, 0.00165, 0.00159, 0.00165, 0.0013]\n",
        "\n",
        "Initialization6 = [0.0018, 0.002, 0.0017, 0.00216, 0.0035]\n",
        "ICP6 = [0.0025, 0.0052, 0.0014, 0.0015, 0.0016]\n",
        "NDT6 = [0.001911, 0.00192, 0.00045, 0.00096, 0.00125]\n",
        "\n",
        "\n",
        "x_axis = np.arange(len(scenes))\n",
        "\n",
        "# Multi bar Chart\n",
        "# plt.subplot(1, 2, 1)\n",
        "# plt.ylim(0, 0.1)\n",
        "plt.bar(x_axis +0.20, Initialization5, width=0.2, label = 'Rough')\n",
        "plt.bar(x_axis +0.20*2, ICP5, width=0.2, label = 'ICP')\n",
        "plt.bar(x_axis +0.20*3, NDT5, width=0.2, label = 'NDT')\n",
        "# plt.grid(which='major', color='#CCCCCC', linestyle='--')\n",
        "# plt.grid(which='minor', color='#CCCCCC', linestyle=':')\n",
        "# plt.xaxis.set_ticks([1.,2.,3.,10.])\n",
        "plt.grid(True)\n",
        "plt.title(\"Error pitch (rad)\")\n",
        "\n",
        "# Xticks\n",
        "\n",
        "plt.xticks(x_axis,scenes)\n",
        "\n",
        "# Add legend\n",
        "\n",
        "plt.legend()\n",
        "\n",
        "# Display\n",
        "\n",
        "plt.show()"
      ]
    },
    {
      "cell_type": "code",
      "execution_count": null,
      "metadata": {
        "colab": {
          "base_uri": "https://localhost:8080/"
        },
        "id": "GP52h7v7CgzJ",
        "outputId": "68144ba5-14d9-41f0-c13d-e5b98dbd65ce"
      },
      "outputs": [
        {
          "name": "stdout",
          "output_type": "stream",
          "text": [
            "[-0.00257612  0.00141537  0.00157076]\n",
            "[-0.00524148  0.00127822  0.00156464]\n",
            "[1.39902800e-03 2.77937251e-05 1.43882882e-03]\n",
            "[-0.00145774  0.00139484  0.00110028]\n",
            "[-0.00157577  0.00169756  0.00164849]\n"
          ]
        }
      ],
      "source": [
        "# Results coppied from scripts\n",
        "# # After Initilaization\n",
        "\n",
        "#axis angle ([axis], angle)\n",
        "axis_angle_scene1 = [0.0019870672965149353, -0.00023224005300223496, 0.00015324432168566104, 0.002006454860630328]\n",
        "axis_angle_scene2 = [0.0019266400396494776, -7.304116183915726e-05, 0.0011073880074673748, 0.0022234192584900153]\n",
        "axis_angle_scene3 = [0.0006656909999238974, -7.483427548976235e-05, -0.004373995147995566, 0.004425009156100226]\n",
        "axis_angle_scene4 = [0.0017894811630860576, 0.0002502598296221554, -0.0065936050861541, 0.006836755743072379]\n",
        "axis_angle_scene5 = [-0.001396726235657889, 0.00012329790555242772, -0.003212101036503781, 0.0035048095405915314]\n",
        "\n",
        "\n",
        "# Rscene1 = \n",
        "\n",
        "\n",
        "# AFTER NDT\n",
        "\n",
        "transformation_scene1 =  np.array([[0.999997, -0.00191094, -0.00133544, -1.6518],\n",
        "[0.00191365, 0.999996, 0.00203349, 2.32693],\n",
        "[0.00133155, -0.00203604, 0.999997, -1.15638],[0, 0, 0, 1]])\n",
        "\n",
        "\n",
        "transformation_scene2 = np.array([[0.999997, -0.00192064, -0.00165003,    -1.69896],\n",
        " [0.00192253,    0.999997,  0.00114435,     2.36878],\n",
        " [0.00164782, -0.00114752,    0.999998,    -1.16081], [0, 0, 0,1]])\n",
        "\n",
        "transformation_scene3 = np.array([[0.999999,  0.000452048,  -0.00159071,     -1.63939],\n",
        "[-0.000448738,     0.999998,   0.00208067,      2.42387],\n",
        "[0.00159164,  -0.00207995,     0.999997,     -1.15519], [0, 0, 0,1]])\n",
        "\n",
        "transformation_scene4 = np.array([[0.999998, -0.000960305,  -0.00165986, -1.65999],\n",
        "[0.000963482, 0.999998, 0.00191434, 2.43416],\n",
        "[0.00165802, -0.00191594, 0.999997, -1.15657], [0, 0, 0, 1]])\n",
        "\n",
        "transformation_scene5 = np.array([[0.999998, -0.00125083, -0.00130257, -1.67524],\n",
        "[0.00125327, 0.999997, 0.00187364, 2.34941],\n",
        "[0.00130022, -0.00187527, 0.999997, -1.15634], [0, 0, 0, 1]])\n",
        "\n",
        "\n",
        "rotation_scene1 = transformation_scene1[:3,:3]\n",
        "rotation_scene2 = transformation_scene2[:3,:3]\n",
        "rotation_scene3 = transformation_scene3[:3,:3]\n",
        "rotation_scene4 = transformation_scene4[:3,:3]\n",
        "rotation_scene5 = transformation_scene5[:3,:3]\n",
        "\n",
        "R1 = R.from_matrix(rotation_scene1)\n",
        "R2 = R.from_matrix(rotation_scene2)\n",
        "R3 = R.from_matrix(rotation_scene3)\n",
        "R4 = R.from_matrix(rotation_scene4)\n",
        "R5 = R.from_matrix(rotation_scene5)\n",
        "\n",
        "\n",
        "# print(R1.as_euler('zyx', degrees=False))\n",
        "# print(R2.as_euler('zyx', degrees=False))\n",
        "# print(R3.as_euler('zyx', degrees=False))\n",
        "# print(R4.as_euler('zyx', degrees=False))\n",
        "# print(R5.as_euler('zyx', degrees=False))\n",
        "\n",
        "\n",
        "# ICP Results\n",
        "\n",
        "TScene1 = np.array([[ 9.99995680e-01,  2.57611217e-03,  1.41536885e-03,  1.68219613e+00],\n",
        " [-2.57388837e-03,  9.99995454e-01, -1.57076264e-03, -2.38927014e+00],\n",
        " [-1.41940887e-03,  1.56711286e-03,  9.99997765e-01,  1.14773437e+00],\n",
        " [ 0.00000000e+00,  0.00000000e+00,  0.00000000e+00,  1.00000000e+00]])\n",
        "\n",
        "\n",
        "TScene2 = np.array([[ 9.99985447e-01, 5.24145344e-03,  1.27822425e-03,  1.73173777e+00],\n",
        " [-5.23945138e-03,  9.99985050e-01, -1.56463398e-03, -2.41215766e+00],\n",
        " [-1.28640610e-03,  1.55791401e-03,  9.99997959e-01,  1.14992348e+00],\n",
        " [ 0.00000000e+00,  0.00000000e+00,  0.00000000e+00,  1.00000000e+00]])\n",
        "\n",
        "\n",
        "TScene3 = np.array([[ 9.99999021e-01, -1.39902754e-03,  2.77937251e-05,  1.67829110e+00],\n",
        " [ 1.39906608e-03,  9.99997986e-01, -1.43882832e-03, -2.42019578e+00],\n",
        " [-2.57807087e-05,  1.43886580e-03,  9.99998964e-01,  1.14256790e+00],\n",
        " [ 0.00000000e+00,  0.00000000e+00,  0.00000000e+00,  1.00000000e+00]])\n",
        "\n",
        "TScene4 = np.array([[ 9.99997965e-01,  1.45773373e-03,  1.39483862e-03,  1.70027377e+00],\n",
        " [-1.45619955e-03,  9.99998334e-01, -1.10028178e-03, -2.44439635e+00],\n",
        " [-1.39644021e-03,  1.09824837e-03,  9.99998422e-01,  1.15339623e+00],\n",
        " [ 0.00000000e+00,  0.00000000e+00,  0.00000000e+00,  1.00000000e+00]]\n",
        ")\n",
        "\n",
        "TScene5 = np.array([[ 9.99997318e-01,  1.57576655e-03 , 1.69756042e-03,  1.69795398e+00],\n",
        " [-1.57296828e-03,  9.99997404e-01, -1.64848210e-03, -2.36676000e+00],\n",
        " [-1.70015364e-03,  1.64580747e-03,  9.99997200e-01,  1.14181276e+00],\n",
        " [ 0.00000000e+00 , 0.00000000e+00 , 0.00000000e+00 , 1.00000000e+00]]\n",
        ")\n",
        "\n",
        "rotation_scene1 = TScene1[:3,:3]\n",
        "rotation_scene2 = TScene2[:3,:3]\n",
        "rotation_scene3 = TScene3[:3,:3]\n",
        "rotation_scene4 = TScene4[:3,:3]\n",
        "rotation_scene5 = TScene5[:3,:3]\n",
        "\n",
        "R1 = R.from_matrix(rotation_scene1)\n",
        "R2 = R.from_matrix(rotation_scene2)\n",
        "R3 = R.from_matrix(rotation_scene3)\n",
        "R4 = R.from_matrix(rotation_scene4)\n",
        "R5 = R.from_matrix(rotation_scene5)\n",
        "\n",
        "print(R1.as_euler('zyx', degrees=False))\n",
        "print(R2.as_euler('zyx', degrees=False))\n",
        "print(R3.as_euler('zyx', degrees=False))\n",
        "print(R4.as_euler('zyx', degrees=False))\n",
        "print(R5.as_euler('zyx', degrees=False))"
      ]
    }
  ],
  "metadata": {
    "colab": {
      "collapsed_sections": [],
      "name": "Result charts.ipynb",
      "provenance": []
    },
    "kernelspec": {
      "display_name": "Python 3",
      "name": "python3"
    },
    "language_info": {
      "name": "python"
    }
  },
  "nbformat": 4,
  "nbformat_minor": 0
}
